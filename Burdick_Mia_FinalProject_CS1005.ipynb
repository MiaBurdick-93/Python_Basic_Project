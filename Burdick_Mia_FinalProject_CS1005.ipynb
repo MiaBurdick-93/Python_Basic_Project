{
  "cells": [
    {
      "cell_type": "markdown",
      "source": [
        "## Import Modules Before Starting"
      ],
      "metadata": {
        "id": "S0s8Ea_6Tu5S"
      }
    },
    {
      "cell_type": "code",
      "source": [
        "import csv\n",
        "import numpy as np\n",
        "import pandas as pd\n",
        "import matplotlib.pyplot as plt\n",
        "import datetime"
      ],
      "metadata": {
        "id": "S1ITTItWTysU"
      },
      "execution_count": 1,
      "outputs": []
    },
    {
      "cell_type": "markdown",
      "source": [
        "## Step 1: Load Data and Preprocessing"
      ],
      "metadata": {
        "id": "_vbex6suUHJW"
      }
    },
    {
      "cell_type": "code",
      "source": [
        "!gdown --id 14Z574W0bpEoKQMOnmNNRhhN0Qg6V0_nX\n"
      ],
      "metadata": {
        "colab": {
          "base_uri": "https://localhost:8080/"
        },
        "id": "iL3UPyF1jmgN",
        "outputId": "6153a114-e13f-4625-b50c-302eae46144f"
      },
      "execution_count": 2,
      "outputs": [
        {
          "output_type": "stream",
          "name": "stdout",
          "text": [
            "/usr/local/lib/python3.10/dist-packages/gdown/__main__.py:132: FutureWarning: Option `--id` was deprecated in version 4.3.1 and will be removed in 5.0. You don't need to pass it anymore to use a file ID.\n",
            "  warnings.warn(\n",
            "Downloading...\n",
            "From: https://drive.google.com/uc?id=14Z574W0bpEoKQMOnmNNRhhN0Qg6V0_nX\n",
            "To: /content/Facebook _Supreme Court_Cases.csv\n",
            "100% 276k/276k [00:00<00:00, 54.9MB/s]\n"
          ]
        }
      ]
    },
    {
      "cell_type": "code",
      "source": [
        "File_Name=\"/content/Facebook _Supreme Court_Cases.csv\""
      ],
      "metadata": {
        "id": "_aSRkmhRUzzG"
      },
      "execution_count": 3,
      "outputs": []
    },
    {
      "cell_type": "code",
      "source": [
        "def CSV_Data_Reader(File_Name, Seprator, NonNumerical):\n",
        "  '''\n",
        "  This function takes a csv file and generate a dictionary\n",
        "  The keys of the dictionary are the column names\n",
        "  Values of the dictionary are columns of the data\n",
        "  '''\n",
        "  with open(File_Name) as csv_file:\n",
        "    csv_reader = csv.reader(csv_file, delimiter=Seprator)\n",
        "    line_count=0\n",
        "    Data=[]\n",
        "    for row in csv_reader:\n",
        "      if line_count==0:\n",
        "        Header=row\n",
        "      else:\n",
        "        Data.append(row)\n",
        "      line_count=line_count+1\n",
        "\n",
        "  Data_dict={}\n",
        "\n",
        "  idx=0\n",
        "  for name in Header:\n",
        "    Data_dict[name]=[]\n",
        "    for row in Data:\n",
        "      if name in NonNumerical:\n",
        "        Data_dict[name].append(row[idx])\n",
        "      else:\n",
        "        if row[idx].replace('.','').isdigit():\n",
        "          Data_dict[name].append(float(row[idx]))\n",
        "        else:\n",
        "          Data_dict[name].append(None)\n",
        "    idx=idx+1\n",
        "  return Data_dict"
      ],
      "metadata": {
        "id": "awTUmlnuUE7x"
      },
      "execution_count": 4,
      "outputs": []
    },
    {
      "cell_type": "code",
      "source": [
        "Seperator=','\n",
        "NonNumerical=['Case name','Alt name','source URL','summary','summary / issue','category','date (m)','Meta...','The Board...','principle','outcome','note','full abstract ','FB category','click-through link','date']"
      ],
      "metadata": {
        "id": "TMckUyS8UgS_"
      },
      "execution_count": 5,
      "outputs": []
    },
    {
      "cell_type": "code",
      "source": [
        "#calling on the csv data reader function to read file we have put in file name variable\n",
        "#data will be held in data parsed variable\n",
        "Data_Parsed=CSV_Data_Reader(File_Name, Seperator, NonNumerical)"
      ],
      "metadata": {
        "id": "3e7OCX9UUqSQ"
      },
      "execution_count": 6,
      "outputs": []
    },
    {
      "cell_type": "code",
      "source": [
        "#look at keys in data parsed dict to ensure everything got read in\n",
        "print(Data_Parsed.keys())"
      ],
      "metadata": {
        "colab": {
          "base_uri": "https://localhost:8080/"
        },
        "id": "F4oX0zH1Zhg6",
        "outputId": "1545a81f-897a-4b51-b4a7-7c14c5eebf71"
      },
      "execution_count": 7,
      "outputs": [
        {
          "output_type": "stream",
          "name": "stdout",
          "text": [
            "dict_keys(['Case name', 'Alt name', 'source URL', 'summary', 'summary / issue', 'category', 'date (m)', 'year', 'month as number', 'Meta...', 'The Board...', 'principle', 'outcome', 'note', 'no of user complaints (if listed)', 'full abstract ', 'FB category', 'Controversy (relates to no. of google news stories)', 'click-through link', 'ID', 'date'])\n"
          ]
        }
      ]
    },
    {
      "cell_type": "markdown",
      "source": [
        "### Create new dict that will hold the columns we will need (controversy and month as number)"
      ],
      "metadata": {
        "id": "fdB6kFmkYcqz"
      }
    },
    {
      "cell_type": "code",
      "source": [
        "#needed data dict will hold columns we need\n",
        "#include no of user complaints just for raw plots\n",
        "Needed_Data={}\n",
        "\n",
        "for i in Data_Parsed:\n",
        "  if i in ['Controversy (relates to no. of google news stories)','date','no of user complaints (if listed)']:\n",
        "    Needed_Data[i]=Data_Parsed[i]"
      ],
      "metadata": {
        "id": "LDpIVg3Qcvie"
      },
      "execution_count": 8,
      "outputs": []
    },
    {
      "cell_type": "code",
      "source": [
        "#check new dict keys to ensure right columns transferred\n",
        "print(Needed_Data.keys())"
      ],
      "metadata": {
        "colab": {
          "base_uri": "https://localhost:8080/"
        },
        "id": "nWagqyl4eBgZ",
        "outputId": "577fdfbf-3488-49d8-bcc2-7e34e9aa86aa"
      },
      "execution_count": 9,
      "outputs": [
        {
          "output_type": "execute_result",
          "data": {
            "text/plain": [
              "dict_keys(['no of user complaints (if listed)', 'Controversy (relates to no. of google news stories)', 'date'])"
            ]
          },
          "metadata": {},
          "execution_count": 9
        }
      ]
    },
    {
      "cell_type": "markdown",
      "source": [
        "### Extract Month from Date Column"
      ],
      "metadata": {
        "id": "MCV0xn0K7soW"
      }
    },
    {
      "cell_type": "code",
      "source": [
        "## all values in date field as populated\n",
        "## have to handle September abbrev differently since it is not compatible with datetime module\n",
        "## have to convert into Sep bc Sept will not be recog by dt library\n",
        "\n",
        "\n",
        "#in addition need two different cases when using strptime function since some months are written out some are abbrev\n",
        "Needed_Data['month']=[]\n",
        "\n",
        "for date_str in Needed_Data['date']:\n",
        "  date_str=date_str.strip()\n",
        "  date_obj=None\n",
        "  try:\n",
        "    date_obj = datetime.datetime.strptime(date_str, '%B %Y')\n",
        "  except ValueError:\n",
        "    try:\n",
        "      date_obj = datetime.datetime.strptime(date_str, '%b %Y')\n",
        "    except ValueError:\n",
        "      if date_str.startswith('Sept'):\n",
        "        date_obj = datetime.datetime.strptime(date_str.replace('Sept','Sep'), '%b %Y')\n",
        "\n",
        "  if date_obj is not None:\n",
        "    Needed_Data['month'].append(date_obj.month)\n",
        "  else:\n",
        "    Needed_Data['month'].append(None)\n",
        "\n",
        "\n",
        "print(Needed_Data)\n",
        "\n"
      ],
      "metadata": {
        "colab": {
          "base_uri": "https://localhost:8080/"
        },
        "id": "mqOYZMiN7whR",
        "outputId": "b96f2658-d282-4c82-be13-848163ff3647"
      },
      "execution_count": 10,
      "outputs": [
        {
          "output_type": "stream",
          "name": "stdout",
          "text": [
            "{'no of user complaints (if listed)': [None, None, None, 0.0, 0.0, 7.0, 11.0, 6.0, 9666.0, 30.0, 23.0, 5.0, None, 35.0, 11.0, 6.0, None, None, None, 2.0, None, None, None, 1.0, 1.0, 1.0, 1.0, 1.0, 1.0, 1.0, 1.0, 1.0, 1.0, 1.0, 1.0, None, 1.0, 11.0, None, None, None, 1.0, 3.0, 1.0, None, 3.0, None, None, None, 11.0, 130.0, 4.0, 6.0, 8.0, 10.0, 9.0, 162.0, 397.0, 23.0, 12.0, 10.0, 26.0, 18.0, 8.0, 7.0, 16.0, 8.0, 3.0, 11.0, 24.0, 12.0, 8.0, 2.0, 6.0, 23.0, None, None], 'Controversy (relates to no. of google news stories)': [250.0, 100.0, 75.0, 150.0, 75.0, 100.0, 50.0, 50.0, 450.0, 50.0, 75.0, 50.0, 200.0, 100.0, 50.0, 125.0, 50.0, 50.0, 50.0, 100.0, 50.0, 50.0, 50.0, 100.0, 50.0, 50.0, 50.0, 50.0, 50.0, 50.0, 100.0, 50.0, 50.0, 100.0, 100.0, 75.0, 125.0, 100.0, 50.0, 200.0, 250.0, 50.0, 250.0, 75.0, 75.0, 350.0, 50.0, 50.0, 75.0, 100.0, 250.0, 75.0, 50.0, 100.0, 200.0, 100.0, 200.0, 50.0, 50.0, 75.0, 50.0, 75.0, 75.0, 50.0, 75.0, 50.0, 50.0, 50.0, 75.0, 50.0, 50.0, 50.0, 50.0, 50.0, 100.0, 100.0, 250.0], 'date': ['Feb 2024', 'Oct 2023', 'Nov 2023', 'June 2023', 'March 2022', 'Feb 2022', 'March 2022', 'Sept 2021', 'Jan 2021', 'March 2021', 'July 2021', 'Dec 2021', 'Dec 2020', 'Nov 2020', 'Jan 2024', 'Jan 2024', 'Nov 2023', 'Nov 2023', 'Nov 2023', 'Nov 2023', 'Nov 2023', 'Nov 2023', 'Dec 2023', 'Dec 2023', 'Dec 2023', 'Dec 2023', 'Dec 2023', 'Dec 2023', 'Dec 2023', 'Dec 2023', 'Dec  2023', 'Dec 2023', 'Dec 2023', 'Dec  2023', 'Dec 2023', 'Oct 2023', 'Sept 2023', 'Sept 2023', 'Sept 2023', 'Sept 2023', 'Sept 2023', 'August 2023', 'August 2023', 'August 2023', 'July 2023', 'Jan 2023', 'June 2023', 'June 2023', 'June 2023', 'June 2023', 'Jan 2023', 'Jan 2022', 'Jan 2022', 'April 2022', 'Jan 2022', 'June 2022', 'July 2022', 'Dec 2021', 'Jan 2021', 'Jan 2021', 'April 2021', 'May 2021', 'May 2021', 'August 2021', 'July 2021', 'June 2021', 'Sept 2021', 'Nov 2021', 'Oct 2020', 'Oct 2020', 'Oct 2020', 'Oct 2020', 'Oct 2020', 'Nov 2020', 'Dec 2020', 'Feb 2022', 'Oct 2021'], 'month': [2, 10, 11, 6, 3, 2, 3, 9, 1, 3, 7, 12, 12, 11, 1, 1, 11, 11, 11, 11, 11, 11, 12, 12, 12, 12, 12, 12, 12, 12, 12, 12, 12, 12, 12, 10, 9, 9, 9, 9, 9, 8, 8, 8, 7, 1, 6, 6, 6, 6, 1, 1, 1, 4, 1, 6, 7, 12, 1, 1, 4, 5, 5, 8, 7, 6, 9, 11, 10, 10, 10, 10, 10, 11, 12, 2, 10]}\n"
          ]
        }
      ]
    },
    {
      "cell_type": "markdown",
      "source": [
        "### Filter out null values in both needed columns for more accurate analysis"
      ],
      "metadata": {
        "id": "ksPu4KCxg06J"
      }
    },
    {
      "cell_type": "code",
      "source": [
        "#iterate through each needed column and check if value is null\n",
        "#not necessary to remove nulls for user complaints as it does not substantially affect raw plot\n",
        "#USER COMPLAINT NOT NEEDED IN STATISTICAL ANALYSIS\n",
        "valid_data=[\n",
        "    i for i in range(len(Needed_Data['Controversy (relates to no. of google news stories)']))\n",
        "    if Needed_Data['Controversy (relates to no. of google news stories)'][i] not in [None, '']\n",
        "    and Needed_Data['month'][i] not in [None, '']\n",
        "]\n",
        "\n",
        "#create new dictionary of needed columns where we are filtering out null values from previous statement\n",
        "not_null_data= {\n",
        "    key: [value[i] for i in valid_data] for key,value in Needed_Data.items()\n",
        "}"
      ],
      "metadata": {
        "id": "t9KRamleeV8i"
      },
      "execution_count": 11,
      "outputs": []
    },
    {
      "cell_type": "code",
      "source": [
        "#check to ensure there is no null or blank values\n",
        "#fine with nulls in user complaints\n",
        "for key,value in not_null_data.items():\n",
        "  print(f\"{key}: {value}\")"
      ],
      "metadata": {
        "colab": {
          "base_uri": "https://localhost:8080/"
        },
        "id": "uHRJaZzmjSKD",
        "outputId": "b9094d5a-b524-4aeb-8a51-5b6bae8d309e"
      },
      "execution_count": 12,
      "outputs": [
        {
          "output_type": "stream",
          "name": "stdout",
          "text": [
            "no of user complaints (if listed): [None, None, None, 0.0, 0.0, 7.0, 11.0, 6.0, 9666.0, 30.0, 23.0, 5.0, None, 35.0, 11.0, 6.0, None, None, None, 2.0, None, None, None, 1.0, 1.0, 1.0, 1.0, 1.0, 1.0, 1.0, 1.0, 1.0, 1.0, 1.0, 1.0, None, 1.0, 11.0, None, None, None, 1.0, 3.0, 1.0, None, 3.0, None, None, None, 11.0, 130.0, 4.0, 6.0, 8.0, 10.0, 9.0, 162.0, 397.0, 23.0, 12.0, 10.0, 26.0, 18.0, 8.0, 7.0, 16.0, 8.0, 3.0, 11.0, 24.0, 12.0, 8.0, 2.0, 6.0, 23.0, None, None]\n",
            "Controversy (relates to no. of google news stories): [250.0, 100.0, 75.0, 150.0, 75.0, 100.0, 50.0, 50.0, 450.0, 50.0, 75.0, 50.0, 200.0, 100.0, 50.0, 125.0, 50.0, 50.0, 50.0, 100.0, 50.0, 50.0, 50.0, 100.0, 50.0, 50.0, 50.0, 50.0, 50.0, 50.0, 100.0, 50.0, 50.0, 100.0, 100.0, 75.0, 125.0, 100.0, 50.0, 200.0, 250.0, 50.0, 250.0, 75.0, 75.0, 350.0, 50.0, 50.0, 75.0, 100.0, 250.0, 75.0, 50.0, 100.0, 200.0, 100.0, 200.0, 50.0, 50.0, 75.0, 50.0, 75.0, 75.0, 50.0, 75.0, 50.0, 50.0, 50.0, 75.0, 50.0, 50.0, 50.0, 50.0, 50.0, 100.0, 100.0, 250.0]\n",
            "date: ['Feb 2024', 'Oct 2023', 'Nov 2023', 'June 2023', 'March 2022', 'Feb 2022', 'March 2022', 'Sept 2021', 'Jan 2021', 'March 2021', 'July 2021', 'Dec 2021', 'Dec 2020', 'Nov 2020', 'Jan 2024', 'Jan 2024', 'Nov 2023', 'Nov 2023', 'Nov 2023', 'Nov 2023', 'Nov 2023', 'Nov 2023', 'Dec 2023', 'Dec 2023', 'Dec 2023', 'Dec 2023', 'Dec 2023', 'Dec 2023', 'Dec 2023', 'Dec 2023', 'Dec  2023', 'Dec 2023', 'Dec 2023', 'Dec  2023', 'Dec 2023', 'Oct 2023', 'Sept 2023', 'Sept 2023', 'Sept 2023', 'Sept 2023', 'Sept 2023', 'August 2023', 'August 2023', 'August 2023', 'July 2023', 'Jan 2023', 'June 2023', 'June 2023', 'June 2023', 'June 2023', 'Jan 2023', 'Jan 2022', 'Jan 2022', 'April 2022', 'Jan 2022', 'June 2022', 'July 2022', 'Dec 2021', 'Jan 2021', 'Jan 2021', 'April 2021', 'May 2021', 'May 2021', 'August 2021', 'July 2021', 'June 2021', 'Sept 2021', 'Nov 2021', 'Oct 2020', 'Oct 2020', 'Oct 2020', 'Oct 2020', 'Oct 2020', 'Nov 2020', 'Dec 2020', 'Feb 2022', 'Oct 2021']\n",
            "month: [2, 10, 11, 6, 3, 2, 3, 9, 1, 3, 7, 12, 12, 11, 1, 1, 11, 11, 11, 11, 11, 11, 12, 12, 12, 12, 12, 12, 12, 12, 12, 12, 12, 12, 12, 10, 9, 9, 9, 9, 9, 8, 8, 8, 7, 1, 6, 6, 6, 6, 1, 1, 1, 4, 1, 6, 7, 12, 1, 1, 4, 5, 5, 8, 7, 6, 9, 11, 10, 10, 10, 10, 10, 11, 12, 2, 10]\n"
          ]
        }
      ]
    },
    {
      "cell_type": "markdown",
      "source": [
        "## Step 2 - Raw Plots"
      ],
      "metadata": {
        "id": "Kt4QCY-GkIDN"
      }
    },
    {
      "cell_type": "markdown",
      "source": [
        "### Line Plot"
      ],
      "metadata": {
        "id": "bhQOV4lhpzAR"
      }
    },
    {
      "cell_type": "code",
      "source": [
        "#index not null data and create two separate variables\n",
        "dates = not_null_data['month']\n",
        "controversy = not_null_data['Controversy (relates to no. of google news stories)']\n",
        "\n",
        "##zipping lists together\n",
        "#month becomes key in new dictionary and sum of controversies for each month becomes value for each key\n",
        "monthly_controversy ={}\n",
        "for month, cont in zip(dates,controversy):\n",
        "  if month in monthly_controversy:\n",
        "    monthly_controversy[month] += cont\n",
        "  else:\n",
        "    monthly_controversy[month] = cont\n",
        "\n",
        "#sorting so the months will be in order when plotting\n",
        "sorted_months = sorted(monthly_controversy.keys())\n",
        "summed_controversy = [monthly_controversy[month] for month in sorted_months]\n",
        "\n",
        "#making new dictionary with zipped list where sorted month is key and then summed controversies are values\n",
        "monthly_controversy_dict = {month: controversy for month, controversy in zip(sorted_months, summed_controversy)}\n",
        "\n",
        "# Print the dictionary for verification\n",
        "print(\"Monthly Controversy Dictionary:\", monthly_controversy_dict)\n",
        "\n"
      ],
      "metadata": {
        "colab": {
          "base_uri": "https://localhost:8080/"
        },
        "id": "evfeba8AkNIX",
        "outputId": "8d260606-555a-455f-baff-7ed65371471f"
      },
      "execution_count": 39,
      "outputs": [
        {
          "output_type": "stream",
          "name": "stdout",
          "text": [
            "Monthly Controversy Dictionary: {1: 1675.0, 2: 450.0, 3: 175.0, 4: 150.0, 5: 150.0, 6: 575.0, 7: 425.0, 8: 425.0, 9: 825.0, 10: 700.0, 11: 625.0, 12: 1250.0}\n"
          ]
        }
      ]
    },
    {
      "cell_type": "code",
      "source": [
        "#matplotlib line plot showing controversy over different months\n",
        "plt.plot(monthly_controversy_dict.keys(), monthly_controversy_dict.values())\n",
        "plt.grid()\n",
        "plt.ylim([0,2000])\n",
        "plt.xlabel('Month')\n",
        "plt.ylabel('Controversy')\n",
        "\n",
        "plt.title('Controversial Stories Regarding FB Posts over Time')"
      ],
      "metadata": {
        "colab": {
          "base_uri": "https://localhost:8080/",
          "height": 510
        },
        "id": "Evos8gYloAeo",
        "outputId": "489ec087-b678-487f-bbfa-d38217d911b2"
      },
      "execution_count": 40,
      "outputs": [
        {
          "output_type": "execute_result",
          "data": {
            "text/plain": [
              "Text(0.5, 1.0, 'Controversial Stories Regarding FB Posts over Time')"
            ]
          },
          "metadata": {},
          "execution_count": 40
        },
        {
          "output_type": "display_data",
          "data": {
            "text/plain": [
              "<Figure size 640x480 with 1 Axes>"
            ],
            "image/png": "[encoded data removed]"
          },
          "metadata": {}
        }
      ]
    },
    {
      "cell_type": "markdown",
      "source": [
        "###  Scatter Plot"
      ],
      "metadata": {
        "id": "JWJ1yyU6p4P5"
      }
    },
    {
      "cell_type": "code",
      "source": [
        "#scatter plot using matplotlib to show number of user complaints related to controversy\n",
        "#no of user complaints - nulls in this column will not affect graph substantially in the scope of this analysis\n",
        "plt.scatter(not_null_data['no of user complaints (if listed)'],not_null_data['Controversy (relates to no. of google news stories)'])\n",
        "plt.grid()\n",
        "plt.xlim([0,200])\n",
        "plt.ylim([0,300])\n",
        "plt.xlabel('User Complaints')\n",
        "plt.ylabel('Controversy')\n",
        "plt.title('User Complaints versus Controversial News Stories')"
      ],
      "metadata": {
        "colab": {
          "base_uri": "https://localhost:8080/",
          "height": 510
        },
        "id": "mTU29ahPp6wt",
        "outputId": "1231ff0d-cbbb-46fb-f009-8b8f8e274c6b"
      },
      "execution_count": 41,
      "outputs": [
        {
          "output_type": "execute_result",
          "data": {
            "text/plain": [
              "Text(0.5, 1.0, 'User Complaints versus Controversial News Stories')"
            ]
          },
          "metadata": {},
          "execution_count": 41
        },
        {
          "output_type": "display_data",
          "data": {
            "text/plain": [
              "<Figure size 640x480 with 1 Axes>"
            ],
            "image/png": "[encoded data removed]"
          },
          "metadata": {}
        }
      ]
    },
    {
      "cell_type": "markdown",
      "source": [
        "### Histogram"
      ],
      "metadata": {
        "id": "74i9yDQfuy5Q"
      }
    },
    {
      "cell_type": "code",
      "source": [
        "#plotting histogram using numpy using frequency of # of controversies\n",
        "\n",
        "plt.figure(figsize=(10,6))\n",
        "plt.hist(not_null_data['Controversy (relates to no. of google news stories)'], bins=5, edgecolor='black')\n",
        "plt.xlabel('Controversy')\n",
        "plt.ylabel('Frequency')\n",
        "plt.title('Distribution of Controversy')\n",
        "plt.grid()\n",
        "plt.show()\n"
      ],
      "metadata": {
        "colab": {
          "base_uri": "https://localhost:8080/",
          "height": 584
        },
        "id": "G6fzPcGXu0tl",
        "outputId": "f66de2ac-132f-40dc-cb89-512625d86f13"
      },
      "execution_count": 42,
      "outputs": [
        {
          "output_type": "display_data",
          "data": {
            "text/plain": [
              "<Figure size 1000x600 with 1 Axes>"
            ],
            "image/png": "[encoded data removed]"
          },
          "metadata": {}
        }
      ]
    },
    {
      "cell_type": "markdown",
      "source": [
        "## Step 3 - Compute Statistics"
      ],
      "metadata": {
        "id": "reStvzC6vhNZ"
      }
    },
    {
      "cell_type": "code",
      "source": [
        "#grouped data variable is a dictionary that holds controversy for that month and record count of controversies for that month\n",
        "#ranging from 1 to 13 so code will go from 1 to 12 which represents each month\n",
        "#initialize record count to 0\n",
        "grouped_data= {month: {'Controversy': [], 'Record Count': 0} for month in range(1,13)}\n",
        "\n",
        "#group data by month\n",
        "#iterate through length of month column in not null data and that becomes iterator used to append to group data variable\n",
        "for i in range(len(not_null_data['month'])):\n",
        "  month=not_null_data['month'][i]\n",
        "  grouped_data[month]['Controversy'].append(not_null_data['Controversy (relates to no. of google news stories)'][i])\n",
        "  grouped_data[month]['Record Count'] += 1\n",
        "\n",
        "\n",
        "#print results to see controversy data points for each month\n",
        "print(grouped_data)\n"
      ],
      "metadata": {
        "colab": {
          "base_uri": "https://localhost:8080/"
        },
        "id": "V1nLG3QY1qbZ",
        "outputId": "871714a3-3f6a-4340-a0db-e6187424e93e"
      },
      "execution_count": 19,
      "outputs": [
        {
          "output_type": "stream",
          "name": "stdout",
          "text": [
            "{1: {'Controversy': [450.0, 50.0, 125.0, 350.0, 250.0, 75.0, 50.0, 200.0, 50.0, 75.0], 'Record Count': 10}, 2: {'Controversy': [250.0, 100.0, 100.0], 'Record Count': 3}, 3: {'Controversy': [75.0, 50.0, 50.0], 'Record Count': 3}, 4: {'Controversy': [100.0, 50.0], 'Record Count': 2}, 5: {'Controversy': [75.0, 75.0], 'Record Count': 2}, 6: {'Controversy': [150.0, 50.0, 50.0, 75.0, 100.0, 100.0, 50.0], 'Record Count': 7}, 7: {'Controversy': [75.0, 75.0, 200.0, 75.0], 'Record Count': 4}, 8: {'Controversy': [50.0, 250.0, 75.0, 50.0], 'Record Count': 4}, 9: {'Controversy': [50.0, 125.0, 100.0, 50.0, 200.0, 250.0, 50.0], 'Record Count': 7}, 10: {'Controversy': [100.0, 75.0, 75.0, 50.0, 50.0, 50.0, 50.0, 250.0], 'Record Count': 8}, 11: {'Controversy': [75.0, 100.0, 50.0, 50.0, 50.0, 100.0, 50.0, 50.0, 50.0, 50.0], 'Record Count': 10}, 12: {'Controversy': [50.0, 200.0, 50.0, 100.0, 50.0, 50.0, 50.0, 50.0, 50.0, 50.0, 100.0, 50.0, 50.0, 100.0, 100.0, 50.0, 100.0], 'Record Count': 17}}\n"
          ]
        }
      ]
    },
    {
      "cell_type": "markdown",
      "source": [
        "### Calculate Stats"
      ],
      "metadata": {
        "id": "J48tj8ITwMvY"
      }
    },
    {
      "cell_type": "code",
      "source": [
        "#create empty dictionaries for all stats we will calculate\n",
        "avg_controversy={}\n",
        "max_controversy={}\n",
        "record_count={}\n",
        "\n",
        "#writing for loop to go through grouped data to calculate avg and max\n",
        "#already calculated record count in previous statement so just adding to dictionary inside of loop for each month\n",
        "for month, data in grouped_data.items():\n",
        "  controversy_lst = data['Controversy']\n",
        "  avg_controversy[month] = round(sum(controversy_lst) / len(controversy_lst),2)\n",
        "  max_controversy[month] = max(controversy_lst)\n",
        "\n",
        "  record_count[month]=data['Record Count']\n",
        "\n",
        "print(\"Average Controversy per Month:\")\n",
        "print(avg_controversy)\n",
        "print(\"\\nMaximum Controversy per Month:\")\n",
        "print(max_controversy)\n",
        "print(\"\\nNumber of Records per Month:\")\n",
        "print(record_count)"
      ],
      "metadata": {
        "colab": {
          "base_uri": "https://localhost:8080/"
        },
        "id": "K5DeuFX-xErn",
        "outputId": "3aaaee94-2ec8-4f42-b5dd-7685bea0c466"
      },
      "execution_count": 43,
      "outputs": [
        {
          "output_type": "stream",
          "name": "stdout",
          "text": [
            "Average Controversy per Month:\n",
            "{1: 167.5, 2: 150.0, 3: 58.33, 4: 75.0, 5: 75.0, 6: 82.14, 7: 106.25, 8: 106.25, 9: 117.86, 10: 87.5, 11: 62.5, 12: 73.53}\n",
            "\n",
            "Maximum Controversy per Month:\n",
            "{1: 450.0, 2: 250.0, 3: 75.0, 4: 100.0, 5: 75.0, 6: 150.0, 7: 200.0, 8: 250.0, 9: 250.0, 10: 250.0, 11: 100.0, 12: 200.0}\n",
            "\n",
            "Number of Records per Month:\n",
            "{1: 10, 2: 3, 3: 3, 4: 2, 5: 2, 6: 7, 7: 4, 8: 4, 9: 7, 10: 8, 11: 10, 12: 17}\n"
          ]
        }
      ]
    },
    {
      "cell_type": "markdown",
      "source": [
        "## Step 4 - Summary Plots"
      ],
      "metadata": {
        "id": "d1sbZhxACr9Z"
      }
    },
    {
      "cell_type": "markdown",
      "source": [
        "### Line Chart of Avg. Controversy"
      ],
      "metadata": {
        "id": "g5-HZJNDOvVo"
      }
    },
    {
      "cell_type": "code",
      "source": [
        "##converting to list for easy plotting\n",
        "months=list(avg_controversy.keys())\n",
        "avg_values=list(avg_controversy.values())\n",
        "\n",
        "#plotting average controversy for each month\n",
        "plt.figure(figsize=(10,6))\n",
        "plt.plot(months,avg_values)\n",
        "plt.xlabel('Month')\n",
        "plt.ylabel('Average Controversy')\n",
        "plt.title('Average Controversy per Month')\n",
        "plt.xticks(months)\n",
        "\n",
        "plt.grid()\n",
        "plt.show()"
      ],
      "metadata": {
        "colab": {
          "base_uri": "https://localhost:8080/",
          "height": 584
        },
        "id": "rD1Rh1fRCtpJ",
        "outputId": "406955e7-0be7-4c38-b8ee-4ea039cdfa93"
      },
      "execution_count": 44,
      "outputs": [
        {
          "output_type": "display_data",
          "data": {
            "text/plain": [
              "<Figure size 1000x600 with 1 Axes>"
            ],
            "image/png": "[encoded data removed]"
          },
          "metadata": {}
        }
      ]
    },
    {
      "cell_type": "markdown",
      "source": [
        "### Bar Chart of Maximum Controversies per Month"
      ],
      "metadata": {
        "id": "3ids-_MTPkk1"
      }
    },
    {
      "cell_type": "code",
      "source": [
        "#same thing - convert to list for easy plotting\n",
        "months=list(max_controversy.keys())\n",
        "max_values=list(max_controversy.values())\n",
        "\n",
        "#bar chart to show max number of controversies for each month\n",
        "plt.figure(figsize=(10,6))\n",
        "plt.bar(months,max_values)\n",
        "plt.xlabel('Month')\n",
        "plt.ylabel('Max Controversy')\n",
        "plt.title('Max Controversy per Month')\n",
        "plt.xticks(months)\n",
        "\n",
        "plt.grid()\n",
        "plt.show()"
      ],
      "metadata": {
        "colab": {
          "base_uri": "https://localhost:8080/",
          "height": 584
        },
        "id": "gbgLCORYPjVm",
        "outputId": "f0745418-50c4-493c-e030-e35256d3b5d0"
      },
      "execution_count": 22,
      "outputs": [
        {
          "output_type": "display_data",
          "data": {
            "text/plain": [
              "<Figure size 1000x600 with 1 Axes>"
            ],
            "image/png": "[encoded data removed]"
          },
          "metadata": {}
        }
      ]
    },
    {
      "cell_type": "markdown",
      "source": [
        "### Plot Record Count per Month"
      ],
      "metadata": {
        "id": "uf_sEXaAQt8P"
      }
    },
    {
      "cell_type": "code",
      "source": [
        "#list conversion for easy plotting\n",
        "months=list(record_count.keys())\n",
        "records=list(record_count.values())\n",
        "\n",
        "#bar chart to easily show record count for each month\n",
        "plt.figure(figsize=(10,6))\n",
        "plt.bar(months,records)\n",
        "plt.xlabel('Month')\n",
        "plt.ylabel('Record Count')\n",
        "plt.title('Record Count per Month')\n",
        "plt.xticks(months)\n",
        "\n",
        "plt.grid()\n",
        "plt.show()"
      ],
      "metadata": {
        "colab": {
          "base_uri": "https://localhost:8080/",
          "height": 584
        },
        "id": "qSlMESiwQ6Kl",
        "outputId": "56ea51f2-71f8-45d0-e86f-090a11cc3855"
      },
      "execution_count": 45,
      "outputs": [
        {
          "output_type": "display_data",
          "data": {
            "text/plain": [
              "<Figure size 1000x600 with 1 Axes>"
            ],
            "image/png": "[encoded data removed]"
          },
          "metadata": {}
        }
      ]
    },
    {
      "cell_type": "markdown",
      "source": [
        "## Step 5 - Verify Stats"
      ],
      "metadata": {
        "id": "F3RXAuauCufT"
      }
    },
    {
      "cell_type": "code",
      "source": [
        "#read in csv file with pandas read_csv\n",
        "final_df=pd.read_csv(File_Name)\n"
      ],
      "metadata": {
        "id": "oZxw_mhJCxNf"
      },
      "execution_count": 46,
      "outputs": []
    },
    {
      "cell_type": "code",
      "source": [
        "#create variable that holds relevant columns we used for previous analysis\n",
        "final=pd.DataFrame(final_df)\n",
        "relevant_df=final[['date','Controversy (relates to no. of google news stories)']].copy()\n"
      ],
      "metadata": {
        "id": "xsrBY51xSHP3"
      },
      "execution_count": 47,
      "outputs": []
    },
    {
      "cell_type": "code",
      "source": [
        "#print to see that correct columns are in new df we will use to check stats\n",
        "relevant_df"
      ],
      "metadata": {
        "colab": {
          "base_uri": "https://localhost:8080/",
          "height": 443
        },
        "id": "WjoKZIciNF61",
        "outputId": "a73d9438-9889-4637-c0ff-293446dcdf4a"
      },
      "execution_count": 48,
      "outputs": [
        {
          "output_type": "execute_result",
          "data": {
            "text/plain": [
              "          date  Controversy (relates to no. of google news stories)\n",
              "0     Feb 2024                                                250  \n",
              "1     Oct 2023                                                100  \n",
              "2     Nov 2023                                                 75  \n",
              "3    June 2023                                                150  \n",
              "4   March 2022                                                 75  \n",
              "..         ...                                                ...  \n",
              "72    Oct 2020                                                 50  \n",
              "73    Nov 2020                                                 50  \n",
              "74    Dec 2020                                                100  \n",
              "75    Feb 2022                                                100  \n",
              "76    Oct 2021                                                250  \n",
              "\n",
              "[77 rows x 2 columns]"
            ],
            "text/html": [
              "\n",
              "  <div id=\"df-985116fe-34cc-46a4-9036-b3bc7df4a2a2\" class=\"colab-df-container\">\n",
              "    <div>\n",
              "<style scoped>\n",
              "    .dataframe tbody tr th:only-of-type {\n",
              "        vertical-align: middle;\n",
              "    }\n",
              "\n",
              "    .dataframe tbody tr th {\n",
              "        vertical-align: top;\n",
              "    }\n",
              "\n",
              "    .dataframe thead th {\n",
              "        text-align: right;\n",
              "    }\n",
              "</style>\n",
              "<table border=\"1\" class=\"dataframe\">\n",
              "  <thead>\n",
              "    <tr style=\"text-align: right;\">\n",
              "      <th></th>\n",
              "      <th>date</th>\n",
              "      <th>Controversy (relates to no. of google news stories)</th>\n",
              "    </tr>\n",
              "  </thead>\n",
              "  <tbody>\n",
              "    <tr>\n",
              "      <th>0</th>\n",
              "      <td>Feb 2024</td>\n",
              "      <td>250</td>\n",
              "    </tr>\n",
              "    <tr>\n",
              "      <th>1</th>\n",
              "      <td>Oct 2023</td>\n",
              "      <td>100</td>\n",
              "    </tr>\n",
              "    <tr>\n",
              "      <th>2</th>\n",
              "      <td>Nov 2023</td>\n",
              "      <td>75</td>\n",
              "    </tr>\n",
              "    <tr>\n",
              "      <th>3</th>\n",
              "      <td>June 2023</td>\n",
              "      <td>150</td>\n",
              "    </tr>\n",
              "    <tr>\n",
              "      <th>4</th>\n",
              "      <td>March 2022</td>\n",
              "      <td>75</td>\n",
              "    </tr>\n",
              "    <tr>\n",
              "      <th>...</th>\n",
              "      <td>...</td>\n",
              "      <td>...</td>\n",
              "    </tr>\n",
              "    <tr>\n",
              "      <th>72</th>\n",
              "      <td>Oct 2020</td>\n",
              "      <td>50</td>\n",
              "    </tr>\n",
              "    <tr>\n",
              "      <th>73</th>\n",
              "      <td>Nov 2020</td>\n",
              "      <td>50</td>\n",
              "    </tr>\n",
              "    <tr>\n",
              "      <th>74</th>\n",
              "      <td>Dec 2020</td>\n",
              "      <td>100</td>\n",
              "    </tr>\n",
              "    <tr>\n",
              "      <th>75</th>\n",
              "      <td>Feb 2022</td>\n",
              "      <td>100</td>\n",
              "    </tr>\n",
              "    <tr>\n",
              "      <th>76</th>\n",
              "      <td>Oct 2021</td>\n",
              "      <td>250</td>\n",
              "    </tr>\n",
              "  </tbody>\n",
              "</table>\n",
              "<p>77 rows × 2 columns</p>\n",
              "</div>\n",
              "    <div class=\"colab-df-buttons\">\n",
              "\n",
              "  <div class=\"colab-df-container\">\n",
              "    <button class=\"colab-df-convert\" onclick=\"convertToInteractive('df-985116fe-34cc-46a4-9036-b3bc7df4a2a2')\"\n",
              "            title=\"Convert this dataframe to an interactive table.\"\n",
              "            style=\"display:none;\">\n",
              "\n",
              "  <svg xmlns=\"http://www.w3.org/2000/svg\" height=\"24px\" viewBox=\"0 -960 960 960\">\n",
              "    <path d=\"M120-120v-720h720v720H120Zm60-500h600v-160H180v160Zm220 220h160v-160H400v160Zm0 220h160v-160H400v160ZM180-400h160v-160H180v160Zm440 0h160v-160H620v160ZM180-180h160v-160H180v160Zm440 0h160v-160H620v160Z\"/>\n",
              "  </svg>\n",
              "    </button>\n",
              "\n",
              "  <style>\n",
              "    .colab-df-container {\n",
              "      display:flex;\n",
              "      gap: 12px;\n",
              "    }\n",
              "\n",
              "    .colab-df-convert {\n",
              "      background-color: #E8F0FE;\n",
              "      border: none;\n",
              "      border-radius: 50%;\n",
              "      cursor: pointer;\n",
              "      display: none;\n",
              "      fill: #1967D2;\n",
              "      height: 32px;\n",
              "      padding: 0 0 0 0;\n",
              "      width: 32px;\n",
              "    }\n",
              "\n",
              "    .colab-df-convert:hover {\n",
              "      background-color: #E2EBFA;\n",
              "      box-shadow: 0px 1px 2px rgba(60, 64, 67, 0.3), 0px 1px 3px 1px rgba(60, 64, 67, 0.15);\n",
              "      fill: #174EA6;\n",
              "    }\n",
              "\n",
              "    .colab-df-buttons div {\n",
              "      margin-bottom: 4px;\n",
              "    }\n",
              "\n",
              "    [theme=dark] .colab-df-convert {\n",
              "      background-color: #3B4455;\n",
              "      fill: #D2E3FC;\n",
              "    }\n",
              "\n",
              "    [theme=dark] .colab-df-convert:hover {\n",
              "      background-color: #434B5C;\n",
              "      box-shadow: 0px 1px 3px 1px rgba(0, 0, 0, 0.15);\n",
              "      filter: drop-shadow(0px 1px 2px rgba(0, 0, 0, 0.3));\n",
              "      fill: #FFFFFF;\n",
              "    }\n",
              "  </style>\n",
              "\n",
              "    <script>\n",
              "      const buttonEl =\n",
              "        document.querySelector('#df-985116fe-34cc-46a4-9036-b3bc7df4a2a2 button.colab-df-convert');\n",
              "      buttonEl.style.display =\n",
              "        google.colab.kernel.accessAllowed ? 'block' : 'none';\n",
              "\n",
              "      async function convertToInteractive(key) {\n",
              "        const element = document.querySelector('#df-985116fe-34cc-46a4-9036-b3bc7df4a2a2');\n",
              "        const dataTable =\n",
              "          await google.colab.kernel.invokeFunction('convertToInteractive',\n",
              "                                                    [key], {});\n",
              "        if (!dataTable) return;\n",
              "\n",
              "        const docLinkHtml = 'Like what you see? Visit the ' +\n",
              "          '<a target=\"_blank\" href=https://colab.research.google.com/notebooks/data_table.ipynb>data table notebook</a>'\n",
              "          + ' to learn more about interactive tables.';\n",
              "        element.innerHTML = '';\n",
              "        dataTable['output_type'] = 'display_data';\n",
              "        await google.colab.output.renderOutput(dataTable, element);\n",
              "        const docLink = document.createElement('div');\n",
              "        docLink.innerHTML = docLinkHtml;\n",
              "        element.appendChild(docLink);\n",
              "      }\n",
              "    </script>\n",
              "  </div>\n",
              "\n",
              "\n",
              "<div id=\"df-089d6ee6-c02f-4480-9961-e16e5bbf2fdb\">\n",
              "  <button class=\"colab-df-quickchart\" onclick=\"quickchart('df-089d6ee6-c02f-4480-9961-e16e5bbf2fdb')\"\n",
              "            title=\"Suggest charts\"\n",
              "            style=\"display:none;\">\n",
              "\n",
              "<svg xmlns=\"http://www.w3.org/2000/svg\" height=\"24px\"viewBox=\"0 0 24 24\"\n",
              "     width=\"24px\">\n",
              "    <g>\n",
              "        <path d=\"M19 3H5c-1.1 0-2 .9-2 2v14c0 1.1.9 2 2 2h14c1.1 0 2-.9 2-2V5c0-1.1-.9-2-2-2zM9 17H7v-7h2v7zm4 0h-2V7h2v10zm4 0h-2v-4h2v4z\"/>\n",
              "    </g>\n",
              "</svg>\n",
              "  </button>\n",
              "\n",
              "<style>\n",
              "  .colab-df-quickchart {\n",
              "      --bg-color: #E8F0FE;\n",
              "      --fill-color: #1967D2;\n",
              "      --hover-bg-color: #E2EBFA;\n",
              "      --hover-fill-color: #174EA6;\n",
              "      --disabled-fill-color: #AAA;\n",
              "      --disabled-bg-color: #DDD;\n",
              "  }\n",
              "\n",
              "  [theme=dark] .colab-df-quickchart {\n",
              "      --bg-color: #3B4455;\n",
              "      --fill-color: #D2E3FC;\n",
              "      --hover-bg-color: #434B5C;\n",
              "      --hover-fill-color: #FFFFFF;\n",
              "      --disabled-bg-color: #3B4455;\n",
              "      --disabled-fill-color: #666;\n",
              "  }\n",
              "\n",
              "  .colab-df-quickchart {\n",
              "    background-color: var(--bg-color);\n",
              "    border: none;\n",
              "    border-radius: 50%;\n",
              "    cursor: pointer;\n",
              "    display: none;\n",
              "    fill: var(--fill-color);\n",
              "    height: 32px;\n",
              "    padding: 0;\n",
              "    width: 32px;\n",
              "  }\n",
              "\n",
              "  .colab-df-quickchart:hover {\n",
              "    background-color: var(--hover-bg-color);\n",
              "    box-shadow: 0 1px 2px rgba(60, 64, 67, 0.3), 0 1px 3px 1px rgba(60, 64, 67, 0.15);\n",
              "    fill: var(--button-hover-fill-color);\n",
              "  }\n",
              "\n",
              "  .colab-df-quickchart-complete:disabled,\n",
              "  .colab-df-quickchart-complete:disabled:hover {\n",
              "    background-color: var(--disabled-bg-color);\n",
              "    fill: var(--disabled-fill-color);\n",
              "    box-shadow: none;\n",
              "  }\n",
              "\n",
              "  .colab-df-spinner {\n",
              "    border: 2px solid var(--fill-color);\n",
              "    border-color: transparent;\n",
              "    border-bottom-color: var(--fill-color);\n",
              "    animation:\n",
              "      spin 1s steps(1) infinite;\n",
              "  }\n",
              "\n",
              "  @keyframes spin {\n",
              "    0% {\n",
              "      border-color: transparent;\n",
              "      border-bottom-color: var(--fill-color);\n",
              "      border-left-color: var(--fill-color);\n",
              "    }\n",
              "    20% {\n",
              "      border-color: transparent;\n",
              "      border-left-color: var(--fill-color);\n",
              "      border-top-color: var(--fill-color);\n",
              "    }\n",
              "    30% {\n",
              "      border-color: transparent;\n",
              "      border-left-color: var(--fill-color);\n",
              "      border-top-color: var(--fill-color);\n",
              "      border-right-color: var(--fill-color);\n",
              "    }\n",
              "    40% {\n",
              "      border-color: transparent;\n",
              "      border-right-color: var(--fill-color);\n",
              "      border-top-color: var(--fill-color);\n",
              "    }\n",
              "    60% {\n",
              "      border-color: transparent;\n",
              "      border-right-color: var(--fill-color);\n",
              "    }\n",
              "    80% {\n",
              "      border-color: transparent;\n",
              "      border-right-color: var(--fill-color);\n",
              "      border-bottom-color: var(--fill-color);\n",
              "    }\n",
              "    90% {\n",
              "      border-color: transparent;\n",
              "      border-bottom-color: var(--fill-color);\n",
              "    }\n",
              "  }\n",
              "</style>\n",
              "\n",
              "  <script>\n",
              "    async function quickchart(key) {\n",
              "      const quickchartButtonEl =\n",
              "        document.querySelector('#' + key + ' button');\n",
              "      quickchartButtonEl.disabled = true;  // To prevent multiple clicks.\n",
              "      quickchartButtonEl.classList.add('colab-df-spinner');\n",
              "      try {\n",
              "        const charts = await google.colab.kernel.invokeFunction(\n",
              "            'suggestCharts', [key], {});\n",
              "      } catch (error) {\n",
              "        console.error('Error during call to suggestCharts:', error);\n",
              "      }\n",
              "      quickchartButtonEl.classList.remove('colab-df-spinner');\n",
              "      quickchartButtonEl.classList.add('colab-df-quickchart-complete');\n",
              "    }\n",
              "    (() => {\n",
              "      let quickchartButtonEl =\n",
              "        document.querySelector('#df-089d6ee6-c02f-4480-9961-e16e5bbf2fdb button');\n",
              "      quickchartButtonEl.style.display =\n",
              "        google.colab.kernel.accessAllowed ? 'block' : 'none';\n",
              "    })();\n",
              "  </script>\n",
              "</div>\n",
              "\n",
              "  <div id=\"id_f8943922-5a53-4692-9cf0-94e613fb998d\">\n",
              "    <style>\n",
              "      .colab-df-generate {\n",
              "        background-color: #E8F0FE;\n",
              "        border: none;\n",
              "        border-radius: 50%;\n",
              "        cursor: pointer;\n",
              "        display: none;\n",
              "        fill: #1967D2;\n",
              "        height: 32px;\n",
              "        padding: 0 0 0 0;\n",
              "        width: 32px;\n",
              "      }\n",
              "\n",
              "      .colab-df-generate:hover {\n",
              "        background-color: #E2EBFA;\n",
              "        box-shadow: 0px 1px 2px rgba(60, 64, 67, 0.3), 0px 1px 3px 1px rgba(60, 64, 67, 0.15);\n",
              "        fill: #174EA6;\n",
              "      }\n",
              "\n",
              "      [theme=dark] .colab-df-generate {\n",
              "        background-color: #3B4455;\n",
              "        fill: #D2E3FC;\n",
              "      }\n",
              "\n",
              "      [theme=dark] .colab-df-generate:hover {\n",
              "        background-color: #434B5C;\n",
              "        box-shadow: 0px 1px 3px 1px rgba(0, 0, 0, 0.15);\n",
              "        filter: drop-shadow(0px 1px 2px rgba(0, 0, 0, 0.3));\n",
              "        fill: #FFFFFF;\n",
              "      }\n",
              "    </style>\n",
              "    <button class=\"colab-df-generate\" onclick=\"generateWithVariable('relevant_df')\"\n",
              "            title=\"Generate code using this dataframe.\"\n",
              "            style=\"display:none;\">\n",
              "\n",
              "  <svg xmlns=\"http://www.w3.org/2000/svg\" height=\"24px\"viewBox=\"0 0 24 24\"\n",
              "       width=\"24px\">\n",
              "    <path d=\"M7,19H8.4L18.45,9,17,7.55,7,17.6ZM5,21V16.75L18.45,3.32a2,2,0,0,1,2.83,0l1.4,1.43a1.91,1.91,0,0,1,.58,1.4,1.91,1.91,0,0,1-.58,1.4L9.25,21ZM18.45,9,17,7.55Zm-12,3A5.31,5.31,0,0,0,4.9,8.1,5.31,5.31,0,0,0,1,6.5,5.31,5.31,0,0,0,4.9,4.9,5.31,5.31,0,0,0,6.5,1,5.31,5.31,0,0,0,8.1,4.9,5.31,5.31,0,0,0,12,6.5,5.46,5.46,0,0,0,6.5,12Z\"/>\n",
              "  </svg>\n",
              "    </button>\n",
              "    <script>\n",
              "      (() => {\n",
              "      const buttonEl =\n",
              "        document.querySelector('#id_f8943922-5a53-4692-9cf0-94e613fb998d button.colab-df-generate');\n",
              "      buttonEl.style.display =\n",
              "        google.colab.kernel.accessAllowed ? 'block' : 'none';\n",
              "\n",
              "      buttonEl.onclick = () => {\n",
              "        google.colab.notebook.generateWithVariable('relevant_df');\n",
              "      }\n",
              "      })();\n",
              "    </script>\n",
              "  </div>\n",
              "\n",
              "    </div>\n",
              "  </div>\n"
            ],
            "application/vnd.google.colaboratory.intrinsic+json": {
              "type": "dataframe",
              "variable_name": "relevant_df",
              "summary": "{\n  \"name\": \"relevant_df\",\n  \"rows\": 77,\n  \"fields\": [\n    {\n      \"column\": \"date\",\n      \"properties\": {\n        \"dtype\": \"object\",\n        \"num_unique_values\": 31,\n        \"samples\": [\n          \"June 2021\",\n          \"Dec  2023\",\n          \"July 2022\"\n        ],\n        \"semantic_type\": \"\",\n        \"description\": \"\"\n      }\n    },\n    {\n      \"column\": \"Controversy (relates to no. of google news stories)\",\n      \"properties\": {\n        \"dtype\": \"number\",\n        \"std\": 75,\n        \"min\": 50,\n        \"max\": 450,\n        \"num_unique_values\": 9,\n        \"samples\": [\n          125,\n          100,\n          450\n        ],\n        \"semantic_type\": \"\",\n        \"description\": \"\"\n      }\n    }\n  ]\n}"
            }
          },
          "metadata": {},
          "execution_count": 48
        }
      ]
    },
    {
      "cell_type": "code",
      "source": [
        "#extracting date into datetime column\n",
        "relevant_df['month'] = pd.to_datetime(relevant_df['date']).dt.month\n"
      ],
      "metadata": {
        "colab": {
          "base_uri": "https://localhost:8080/"
        },
        "id": "40neTQ-iJCU6",
        "outputId": "698b4bd9-aaed-4809-f4d8-531a6079e033"
      },
      "execution_count": 53,
      "outputs": [
        {
          "output_type": "stream",
          "name": "stderr",
          "text": [
            "<ipython-input-53-f547a9080f02>:2: UserWarning: Could not infer format, so each element will be parsed individually, falling back to `dateutil`. To ensure parsing is consistent and as-expected, please specify a format.\n",
            "  relevant_df['month'] = pd.to_datetime(relevant_df['date']).dt.month\n"
          ]
        }
      ]
    },
    {
      "cell_type": "code",
      "source": [
        "relevant_df"
      ],
      "metadata": {
        "colab": {
          "base_uri": "https://localhost:8080/",
          "height": 443
        },
        "id": "X6L9PCJH1o3f",
        "outputId": "ab27ff70-cfbb-4d44-be7e-a4985550756d"
      },
      "execution_count": 54,
      "outputs": [
        {
          "output_type": "execute_result",
          "data": {
            "text/plain": [
              "          date  Controversy (relates to no. of google news stories)  month\n",
              "0     Feb 2024                                                250        2\n",
              "1     Oct 2023                                                100       10\n",
              "2     Nov 2023                                                 75       11\n",
              "3    June 2023                                                150        6\n",
              "4   March 2022                                                 75        3\n",
              "..         ...                                                ...      ...\n",
              "72    Oct 2020                                                 50       10\n",
              "73    Nov 2020                                                 50       11\n",
              "74    Dec 2020                                                100       12\n",
              "75    Feb 2022                                                100        2\n",
              "76    Oct 2021                                                250       10\n",
              "\n",
              "[77 rows x 3 columns]"
            ],
            "text/html": [
              "\n",
              "  <div id=\"df-36c54ee7-62af-478d-8188-8c3fea63d3f0\" class=\"colab-df-container\">\n",
              "    <div>\n",
              "<style scoped>\n",
              "    .dataframe tbody tr th:only-of-type {\n",
              "        vertical-align: middle;\n",
              "    }\n",
              "\n",
              "    .dataframe tbody tr th {\n",
              "        vertical-align: top;\n",
              "    }\n",
              "\n",
              "    .dataframe thead th {\n",
              "        text-align: right;\n",
              "    }\n",
              "</style>\n",
              "<table border=\"1\" class=\"dataframe\">\n",
              "  <thead>\n",
              "    <tr style=\"text-align: right;\">\n",
              "      <th></th>\n",
              "      <th>date</th>\n",
              "      <th>Controversy (relates to no. of google news stories)</th>\n",
              "      <th>month</th>\n",
              "    </tr>\n",
              "  </thead>\n",
              "  <tbody>\n",
              "    <tr>\n",
              "      <th>0</th>\n",
              "      <td>Feb 2024</td>\n",
              "      <td>250</td>\n",
              "      <td>2</td>\n",
              "    </tr>\n",
              "    <tr>\n",
              "      <th>1</th>\n",
              "      <td>Oct 2023</td>\n",
              "      <td>100</td>\n",
              "      <td>10</td>\n",
              "    </tr>\n",
              "    <tr>\n",
              "      <th>2</th>\n",
              "      <td>Nov 2023</td>\n",
              "      <td>75</td>\n",
              "      <td>11</td>\n",
              "    </tr>\n",
              "    <tr>\n",
              "      <th>3</th>\n",
              "      <td>June 2023</td>\n",
              "      <td>150</td>\n",
              "      <td>6</td>\n",
              "    </tr>\n",
              "    <tr>\n",
              "      <th>4</th>\n",
              "      <td>March 2022</td>\n",
              "      <td>75</td>\n",
              "      <td>3</td>\n",
              "    </tr>\n",
              "    <tr>\n",
              "      <th>...</th>\n",
              "      <td>...</td>\n",
              "      <td>...</td>\n",
              "      <td>...</td>\n",
              "    </tr>\n",
              "    <tr>\n",
              "      <th>72</th>\n",
              "      <td>Oct 2020</td>\n",
              "      <td>50</td>\n",
              "      <td>10</td>\n",
              "    </tr>\n",
              "    <tr>\n",
              "      <th>73</th>\n",
              "      <td>Nov 2020</td>\n",
              "      <td>50</td>\n",
              "      <td>11</td>\n",
              "    </tr>\n",
              "    <tr>\n",
              "      <th>74</th>\n",
              "      <td>Dec 2020</td>\n",
              "      <td>100</td>\n",
              "      <td>12</td>\n",
              "    </tr>\n",
              "    <tr>\n",
              "      <th>75</th>\n",
              "      <td>Feb 2022</td>\n",
              "      <td>100</td>\n",
              "      <td>2</td>\n",
              "    </tr>\n",
              "    <tr>\n",
              "      <th>76</th>\n",
              "      <td>Oct 2021</td>\n",
              "      <td>250</td>\n",
              "      <td>10</td>\n",
              "    </tr>\n",
              "  </tbody>\n",
              "</table>\n",
              "<p>77 rows × 3 columns</p>\n",
              "</div>\n",
              "    <div class=\"colab-df-buttons\">\n",
              "\n",
              "  <div class=\"colab-df-container\">\n",
              "    <button class=\"colab-df-convert\" onclick=\"convertToInteractive('df-36c54ee7-62af-478d-8188-8c3fea63d3f0')\"\n",
              "            title=\"Convert this dataframe to an interactive table.\"\n",
              "            style=\"display:none;\">\n",
              "\n",
              "  <svg xmlns=\"http://www.w3.org/2000/svg\" height=\"24px\" viewBox=\"0 -960 960 960\">\n",
              "    <path d=\"M120-120v-720h720v720H120Zm60-500h600v-160H180v160Zm220 220h160v-160H400v160Zm0 220h160v-160H400v160ZM180-400h160v-160H180v160Zm440 0h160v-160H620v160ZM180-180h160v-160H180v160Zm440 0h160v-160H620v160Z\"/>\n",
              "  </svg>\n",
              "    </button>\n",
              "\n",
              "  <style>\n",
              "    .colab-df-container {\n",
              "      display:flex;\n",
              "      gap: 12px;\n",
              "    }\n",
              "\n",
              "    .colab-df-convert {\n",
              "      background-color: #E8F0FE;\n",
              "      border: none;\n",
              "      border-radius: 50%;\n",
              "      cursor: pointer;\n",
              "      display: none;\n",
              "      fill: #1967D2;\n",
              "      height: 32px;\n",
              "      padding: 0 0 0 0;\n",
              "      width: 32px;\n",
              "    }\n",
              "\n",
              "    .colab-df-convert:hover {\n",
              "      background-color: #E2EBFA;\n",
              "      box-shadow: 0px 1px 2px rgba(60, 64, 67, 0.3), 0px 1px 3px 1px rgba(60, 64, 67, 0.15);\n",
              "      fill: #174EA6;\n",
              "    }\n",
              "\n",
              "    .colab-df-buttons div {\n",
              "      margin-bottom: 4px;\n",
              "    }\n",
              "\n",
              "    [theme=dark] .colab-df-convert {\n",
              "      background-color: #3B4455;\n",
              "      fill: #D2E3FC;\n",
              "    }\n",
              "\n",
              "    [theme=dark] .colab-df-convert:hover {\n",
              "      background-color: #434B5C;\n",
              "      box-shadow: 0px 1px 3px 1px rgba(0, 0, 0, 0.15);\n",
              "      filter: drop-shadow(0px 1px 2px rgba(0, 0, 0, 0.3));\n",
              "      fill: #FFFFFF;\n",
              "    }\n",
              "  </style>\n",
              "\n",
              "    <script>\n",
              "      const buttonEl =\n",
              "        document.querySelector('#df-36c54ee7-62af-478d-8188-8c3fea63d3f0 button.colab-df-convert');\n",
              "      buttonEl.style.display =\n",
              "        google.colab.kernel.accessAllowed ? 'block' : 'none';\n",
              "\n",
              "      async function convertToInteractive(key) {\n",
              "        const element = document.querySelector('#df-36c54ee7-62af-478d-8188-8c3fea63d3f0');\n",
              "        const dataTable =\n",
              "          await google.colab.kernel.invokeFunction('convertToInteractive',\n",
              "                                                    [key], {});\n",
              "        if (!dataTable) return;\n",
              "\n",
              "        const docLinkHtml = 'Like what you see? Visit the ' +\n",
              "          '<a target=\"_blank\" href=https://colab.research.google.com/notebooks/data_table.ipynb>data table notebook</a>'\n",
              "          + ' to learn more about interactive tables.';\n",
              "        element.innerHTML = '';\n",
              "        dataTable['output_type'] = 'display_data';\n",
              "        await google.colab.output.renderOutput(dataTable, element);\n",
              "        const docLink = document.createElement('div');\n",
              "        docLink.innerHTML = docLinkHtml;\n",
              "        element.appendChild(docLink);\n",
              "      }\n",
              "    </script>\n",
              "  </div>\n",
              "\n",
              "\n",
              "<div id=\"df-4ab64802-d9d8-4f85-b892-96482ce0ebb5\">\n",
              "  <button class=\"colab-df-quickchart\" onclick=\"quickchart('df-4ab64802-d9d8-4f85-b892-96482ce0ebb5')\"\n",
              "            title=\"Suggest charts\"\n",
              "            style=\"display:none;\">\n",
              "\n",
              "<svg xmlns=\"http://www.w3.org/2000/svg\" height=\"24px\"viewBox=\"0 0 24 24\"\n",
              "     width=\"24px\">\n",
              "    <g>\n",
              "        <path d=\"M19 3H5c-1.1 0-2 .9-2 2v14c0 1.1.9 2 2 2h14c1.1 0 2-.9 2-2V5c0-1.1-.9-2-2-2zM9 17H7v-7h2v7zm4 0h-2V7h2v10zm4 0h-2v-4h2v4z\"/>\n",
              "    </g>\n",
              "</svg>\n",
              "  </button>\n",
              "\n",
              "<style>\n",
              "  .colab-df-quickchart {\n",
              "      --bg-color: #E8F0FE;\n",
              "      --fill-color: #1967D2;\n",
              "      --hover-bg-color: #E2EBFA;\n",
              "      --hover-fill-color: #174EA6;\n",
              "      --disabled-fill-color: #AAA;\n",
              "      --disabled-bg-color: #DDD;\n",
              "  }\n",
              "\n",
              "  [theme=dark] .colab-df-quickchart {\n",
              "      --bg-color: #3B4455;\n",
              "      --fill-color: #D2E3FC;\n",
              "      --hover-bg-color: #434B5C;\n",
              "      --hover-fill-color: #FFFFFF;\n",
              "      --disabled-bg-color: #3B4455;\n",
              "      --disabled-fill-color: #666;\n",
              "  }\n",
              "\n",
              "  .colab-df-quickchart {\n",
              "    background-color: var(--bg-color);\n",
              "    border: none;\n",
              "    border-radius: 50%;\n",
              "    cursor: pointer;\n",
              "    display: none;\n",
              "    fill: var(--fill-color);\n",
              "    height: 32px;\n",
              "    padding: 0;\n",
              "    width: 32px;\n",
              "  }\n",
              "\n",
              "  .colab-df-quickchart:hover {\n",
              "    background-color: var(--hover-bg-color);\n",
              "    box-shadow: 0 1px 2px rgba(60, 64, 67, 0.3), 0 1px 3px 1px rgba(60, 64, 67, 0.15);\n",
              "    fill: var(--button-hover-fill-color);\n",
              "  }\n",
              "\n",
              "  .colab-df-quickchart-complete:disabled,\n",
              "  .colab-df-quickchart-complete:disabled:hover {\n",
              "    background-color: var(--disabled-bg-color);\n",
              "    fill: var(--disabled-fill-color);\n",
              "    box-shadow: none;\n",
              "  }\n",
              "\n",
              "  .colab-df-spinner {\n",
              "    border: 2px solid var(--fill-color);\n",
              "    border-color: transparent;\n",
              "    border-bottom-color: var(--fill-color);\n",
              "    animation:\n",
              "      spin 1s steps(1) infinite;\n",
              "  }\n",
              "\n",
              "  @keyframes spin {\n",
              "    0% {\n",
              "      border-color: transparent;\n",
              "      border-bottom-color: var(--fill-color);\n",
              "      border-left-color: var(--fill-color);\n",
              "    }\n",
              "    20% {\n",
              "      border-color: transparent;\n",
              "      border-left-color: var(--fill-color);\n",
              "      border-top-color: var(--fill-color);\n",
              "    }\n",
              "    30% {\n",
              "      border-color: transparent;\n",
              "      border-left-color: var(--fill-color);\n",
              "      border-top-color: var(--fill-color);\n",
              "      border-right-color: var(--fill-color);\n",
              "    }\n",
              "    40% {\n",
              "      border-color: transparent;\n",
              "      border-right-color: var(--fill-color);\n",
              "      border-top-color: var(--fill-color);\n",
              "    }\n",
              "    60% {\n",
              "      border-color: transparent;\n",
              "      border-right-color: var(--fill-color);\n",
              "    }\n",
              "    80% {\n",
              "      border-color: transparent;\n",
              "      border-right-color: var(--fill-color);\n",
              "      border-bottom-color: var(--fill-color);\n",
              "    }\n",
              "    90% {\n",
              "      border-color: transparent;\n",
              "      border-bottom-color: var(--fill-color);\n",
              "    }\n",
              "  }\n",
              "</style>\n",
              "\n",
              "  <script>\n",
              "    async function quickchart(key) {\n",
              "      const quickchartButtonEl =\n",
              "        document.querySelector('#' + key + ' button');\n",
              "      quickchartButtonEl.disabled = true;  // To prevent multiple clicks.\n",
              "      quickchartButtonEl.classList.add('colab-df-spinner');\n",
              "      try {\n",
              "        const charts = await google.colab.kernel.invokeFunction(\n",
              "            'suggestCharts', [key], {});\n",
              "      } catch (error) {\n",
              "        console.error('Error during call to suggestCharts:', error);\n",
              "      }\n",
              "      quickchartButtonEl.classList.remove('colab-df-spinner');\n",
              "      quickchartButtonEl.classList.add('colab-df-quickchart-complete');\n",
              "    }\n",
              "    (() => {\n",
              "      let quickchartButtonEl =\n",
              "        document.querySelector('#df-4ab64802-d9d8-4f85-b892-96482ce0ebb5 button');\n",
              "      quickchartButtonEl.style.display =\n",
              "        google.colab.kernel.accessAllowed ? 'block' : 'none';\n",
              "    })();\n",
              "  </script>\n",
              "</div>\n",
              "\n",
              "  <div id=\"id_fb0c5d52-9602-4ee4-a705-e094473420cd\">\n",
              "    <style>\n",
              "      .colab-df-generate {\n",
              "        background-color: #E8F0FE;\n",
              "        border: none;\n",
              "        border-radius: 50%;\n",
              "        cursor: pointer;\n",
              "        display: none;\n",
              "        fill: #1967D2;\n",
              "        height: 32px;\n",
              "        padding: 0 0 0 0;\n",
              "        width: 32px;\n",
              "      }\n",
              "\n",
              "      .colab-df-generate:hover {\n",
              "        background-color: #E2EBFA;\n",
              "        box-shadow: 0px 1px 2px rgba(60, 64, 67, 0.3), 0px 1px 3px 1px rgba(60, 64, 67, 0.15);\n",
              "        fill: #174EA6;\n",
              "      }\n",
              "\n",
              "      [theme=dark] .colab-df-generate {\n",
              "        background-color: #3B4455;\n",
              "        fill: #D2E3FC;\n",
              "      }\n",
              "\n",
              "      [theme=dark] .colab-df-generate:hover {\n",
              "        background-color: #434B5C;\n",
              "        box-shadow: 0px 1px 3px 1px rgba(0, 0, 0, 0.15);\n",
              "        filter: drop-shadow(0px 1px 2px rgba(0, 0, 0, 0.3));\n",
              "        fill: #FFFFFF;\n",
              "      }\n",
              "    </style>\n",
              "    <button class=\"colab-df-generate\" onclick=\"generateWithVariable('relevant_df')\"\n",
              "            title=\"Generate code using this dataframe.\"\n",
              "            style=\"display:none;\">\n",
              "\n",
              "  <svg xmlns=\"http://www.w3.org/2000/svg\" height=\"24px\"viewBox=\"0 0 24 24\"\n",
              "       width=\"24px\">\n",
              "    <path d=\"M7,19H8.4L18.45,9,17,7.55,7,17.6ZM5,21V16.75L18.45,3.32a2,2,0,0,1,2.83,0l1.4,1.43a1.91,1.91,0,0,1,.58,1.4,1.91,1.91,0,0,1-.58,1.4L9.25,21ZM18.45,9,17,7.55Zm-12,3A5.31,5.31,0,0,0,4.9,8.1,5.31,5.31,0,0,0,1,6.5,5.31,5.31,0,0,0,4.9,4.9,5.31,5.31,0,0,0,6.5,1,5.31,5.31,0,0,0,8.1,4.9,5.31,5.31,0,0,0,12,6.5,5.46,5.46,0,0,0,6.5,12Z\"/>\n",
              "  </svg>\n",
              "    </button>\n",
              "    <script>\n",
              "      (() => {\n",
              "      const buttonEl =\n",
              "        document.querySelector('#id_fb0c5d52-9602-4ee4-a705-e094473420cd button.colab-df-generate');\n",
              "      buttonEl.style.display =\n",
              "        google.colab.kernel.accessAllowed ? 'block' : 'none';\n",
              "\n",
              "      buttonEl.onclick = () => {\n",
              "        google.colab.notebook.generateWithVariable('relevant_df');\n",
              "      }\n",
              "      })();\n",
              "    </script>\n",
              "  </div>\n",
              "\n",
              "    </div>\n",
              "  </div>\n"
            ],
            "application/vnd.google.colaboratory.intrinsic+json": {
              "type": "dataframe",
              "variable_name": "relevant_df",
              "summary": "{\n  \"name\": \"relevant_df\",\n  \"rows\": 77,\n  \"fields\": [\n    {\n      \"column\": \"date\",\n      \"properties\": {\n        \"dtype\": \"object\",\n        \"num_unique_values\": 31,\n        \"samples\": [\n          \"June 2021\",\n          \"Dec  2023\",\n          \"July 2022\"\n        ],\n        \"semantic_type\": \"\",\n        \"description\": \"\"\n      }\n    },\n    {\n      \"column\": \"Controversy (relates to no. of google news stories)\",\n      \"properties\": {\n        \"dtype\": \"number\",\n        \"std\": 75,\n        \"min\": 50,\n        \"max\": 450,\n        \"num_unique_values\": 9,\n        \"samples\": [\n          125,\n          100,\n          450\n        ],\n        \"semantic_type\": \"\",\n        \"description\": \"\"\n      }\n    },\n    {\n      \"column\": \"month\",\n      \"properties\": {\n        \"dtype\": \"int32\",\n        \"num_unique_values\": 12,\n        \"samples\": [\n          4,\n          8,\n          2\n        ],\n        \"semantic_type\": \"\",\n        \"description\": \"\"\n      }\n    }\n  ]\n}"
            }
          },
          "metadata": {},
          "execution_count": 54
        }
      ]
    },
    {
      "cell_type": "code",
      "source": [
        "## groupby function to group controversies by month so that we can perform analysis\n",
        "grouped=relevant_df.groupby('month')['Controversy (relates to no. of google news stories)']\n"
      ],
      "metadata": {
        "id": "R-uH0nZTWLvt"
      },
      "execution_count": 56,
      "outputs": []
    },
    {
      "cell_type": "markdown",
      "source": [
        "### Directly Compare Numpy and Pandas Stats"
      ],
      "metadata": {
        "id": "gllVXc9Zk0MQ"
      }
    },
    {
      "cell_type": "code",
      "source": [
        "#calculate stats with pd from grouped data\n",
        "avg_controversypd=round(grouped.mean(),2)\n",
        "max_controversypd=round(grouped.max(),2)\n",
        "record_countpd=grouped.count()\n",
        "\n",
        "#calculate stats with np from grouped data\n",
        "#previously used lambda function in previous courses to iterate through grouped data and calculate stats\n",
        "#round for better readability\n",
        "avg_controversynp=round(grouped.apply(lambda x: np.mean(x)),2)\n",
        "max_controversynp=round(grouped.apply(lambda x: np.max(x)),2)\n",
        "record_countnp=grouped.apply(lambda x: np.size(x))\n",
        "\n",
        "#make compare df to directly compare pandas and numpy stats\n",
        "compare_df = pd.DataFrame({\n",
        "    'Month': avg_controversypd.index,\n",
        "    'Avg_Pandas': avg_controversypd.values,\n",
        "    'Avg_Numpy' : avg_controversynp.values,\n",
        "    'Max_Pandas': max_controversypd.values,\n",
        "    'Max_Numpy': max_controversynp.values,\n",
        "    'Record_Count_Pandas': record_countpd.values,\n",
        "    'Record_Count_Numpy': record_countnp.values\n",
        "    })\n",
        "\n",
        "compare_df"
      ],
      "metadata": {
        "colab": {
          "base_uri": "https://localhost:8080/",
          "height": 445
        },
        "id": "mNr2jM5BWXJV",
        "outputId": "ee57e16f-b5bf-477f-9318-747b3060896d"
      },
      "execution_count": 60,
      "outputs": [
        {
          "output_type": "execute_result",
          "data": {
            "text/plain": [
              "    Month  Avg_Pandas  Avg_Numpy  Max_Pandas  Max_Numpy  Record_Count_Pandas  \\\n",
              "0       1      167.50     167.50         450        450                   10   \n",
              "1       2      150.00     150.00         250        250                    3   \n",
              "2       3       58.33      58.33          75         75                    3   \n",
              "3       4       75.00      75.00         100        100                    2   \n",
              "4       5       75.00      75.00          75         75                    2   \n",
              "5       6       82.14      82.14         150        150                    7   \n",
              "6       7      106.25     106.25         200        200                    4   \n",
              "7       8      106.25     106.25         250        250                    4   \n",
              "8       9      117.86     117.86         250        250                    7   \n",
              "9      10       87.50      87.50         250        250                    8   \n",
              "10     11       62.50      62.50         100        100                   10   \n",
              "11     12       73.53      73.53         200        200                   17   \n",
              "\n",
              "    Record_Count_Numpy  \n",
              "0                   10  \n",
              "1                    3  \n",
              "2                    3  \n",
              "3                    2  \n",
              "4                    2  \n",
              "5                    7  \n",
              "6                    4  \n",
              "7                    4  \n",
              "8                    7  \n",
              "9                    8  \n",
              "10                  10  \n",
              "11                  17  "
            ],
            "text/html": [
              "\n",
              "  <div id=\"df-8e148180-4379-49b8-9bd5-1036806f3430\" class=\"colab-df-container\">\n",
              "    <div>\n",
              "<style scoped>\n",
              "    .dataframe tbody tr th:only-of-type {\n",
              "        vertical-align: middle;\n",
              "    }\n",
              "\n",
              "    .dataframe tbody tr th {\n",
              "        vertical-align: top;\n",
              "    }\n",
              "\n",
              "    .dataframe thead th {\n",
              "        text-align: right;\n",
              "    }\n",
              "</style>\n",
              "<table border=\"1\" class=\"dataframe\">\n",
              "  <thead>\n",
              "    <tr style=\"text-align: right;\">\n",
              "      <th></th>\n",
              "      <th>Month</th>\n",
              "      <th>Avg_Pandas</th>\n",
              "      <th>Avg_Numpy</th>\n",
              "      <th>Max_Pandas</th>\n",
              "      <th>Max_Numpy</th>\n",
              "      <th>Record_Count_Pandas</th>\n",
              "      <th>Record_Count_Numpy</th>\n",
              "    </tr>\n",
              "  </thead>\n",
              "  <tbody>\n",
              "    <tr>\n",
              "      <th>0</th>\n",
              "      <td>1</td>\n",
              "      <td>167.50</td>\n",
              "      <td>167.50</td>\n",
              "      <td>450</td>\n",
              "      <td>450</td>\n",
              "      <td>10</td>\n",
              "      <td>10</td>\n",
              "    </tr>\n",
              "    <tr>\n",
              "      <th>1</th>\n",
              "      <td>2</td>\n",
              "      <td>150.00</td>\n",
              "      <td>150.00</td>\n",
              "      <td>250</td>\n",
              "      <td>250</td>\n",
              "      <td>3</td>\n",
              "      <td>3</td>\n",
              "    </tr>\n",
              "    <tr>\n",
              "      <th>2</th>\n",
              "      <td>3</td>\n",
              "      <td>58.33</td>\n",
              "      <td>58.33</td>\n",
              "      <td>75</td>\n",
              "      <td>75</td>\n",
              "      <td>3</td>\n",
              "      <td>3</td>\n",
              "    </tr>\n",
              "    <tr>\n",
              "      <th>3</th>\n",
              "      <td>4</td>\n",
              "      <td>75.00</td>\n",
              "      <td>75.00</td>\n",
              "      <td>100</td>\n",
              "      <td>100</td>\n",
              "      <td>2</td>\n",
              "      <td>2</td>\n",
              "    </tr>\n",
              "    <tr>\n",
              "      <th>4</th>\n",
              "      <td>5</td>\n",
              "      <td>75.00</td>\n",
              "      <td>75.00</td>\n",
              "      <td>75</td>\n",
              "      <td>75</td>\n",
              "      <td>2</td>\n",
              "      <td>2</td>\n",
              "    </tr>\n",
              "    <tr>\n",
              "      <th>5</th>\n",
              "      <td>6</td>\n",
              "      <td>82.14</td>\n",
              "      <td>82.14</td>\n",
              "      <td>150</td>\n",
              "      <td>150</td>\n",
              "      <td>7</td>\n",
              "      <td>7</td>\n",
              "    </tr>\n",
              "    <tr>\n",
              "      <th>6</th>\n",
              "      <td>7</td>\n",
              "      <td>106.25</td>\n",
              "      <td>106.25</td>\n",
              "      <td>200</td>\n",
              "      <td>200</td>\n",
              "      <td>4</td>\n",
              "      <td>4</td>\n",
              "    </tr>\n",
              "    <tr>\n",
              "      <th>7</th>\n",
              "      <td>8</td>\n",
              "      <td>106.25</td>\n",
              "      <td>106.25</td>\n",
              "      <td>250</td>\n",
              "      <td>250</td>\n",
              "      <td>4</td>\n",
              "      <td>4</td>\n",
              "    </tr>\n",
              "    <tr>\n",
              "      <th>8</th>\n",
              "      <td>9</td>\n",
              "      <td>117.86</td>\n",
              "      <td>117.86</td>\n",
              "      <td>250</td>\n",
              "      <td>250</td>\n",
              "      <td>7</td>\n",
              "      <td>7</td>\n",
              "    </tr>\n",
              "    <tr>\n",
              "      <th>9</th>\n",
              "      <td>10</td>\n",
              "      <td>87.50</td>\n",
              "      <td>87.50</td>\n",
              "      <td>250</td>\n",
              "      <td>250</td>\n",
              "      <td>8</td>\n",
              "      <td>8</td>\n",
              "    </tr>\n",
              "    <tr>\n",
              "      <th>10</th>\n",
              "      <td>11</td>\n",
              "      <td>62.50</td>\n",
              "      <td>62.50</td>\n",
              "      <td>100</td>\n",
              "      <td>100</td>\n",
              "      <td>10</td>\n",
              "      <td>10</td>\n",
              "    </tr>\n",
              "    <tr>\n",
              "      <th>11</th>\n",
              "      <td>12</td>\n",
              "      <td>73.53</td>\n",
              "      <td>73.53</td>\n",
              "      <td>200</td>\n",
              "      <td>200</td>\n",
              "      <td>17</td>\n",
              "      <td>17</td>\n",
              "    </tr>\n",
              "  </tbody>\n",
              "</table>\n",
              "</div>\n",
              "    <div class=\"colab-df-buttons\">\n",
              "\n",
              "  <div class=\"colab-df-container\">\n",
              "    <button class=\"colab-df-convert\" onclick=\"convertToInteractive('df-8e148180-4379-49b8-9bd5-1036806f3430')\"\n",
              "            title=\"Convert this dataframe to an interactive table.\"\n",
              "            style=\"display:none;\">\n",
              "\n",
              "  <svg xmlns=\"http://www.w3.org/2000/svg\" height=\"24px\" viewBox=\"0 -960 960 960\">\n",
              "    <path d=\"M120-120v-720h720v720H120Zm60-500h600v-160H180v160Zm220 220h160v-160H400v160Zm0 220h160v-160H400v160ZM180-400h160v-160H180v160Zm440 0h160v-160H620v160ZM180-180h160v-160H180v160Zm440 0h160v-160H620v160Z\"/>\n",
              "  </svg>\n",
              "    </button>\n",
              "\n",
              "  <style>\n",
              "    .colab-df-container {\n",
              "      display:flex;\n",
              "      gap: 12px;\n",
              "    }\n",
              "\n",
              "    .colab-df-convert {\n",
              "      background-color: #E8F0FE;\n",
              "      border: none;\n",
              "      border-radius: 50%;\n",
              "      cursor: pointer;\n",
              "      display: none;\n",
              "      fill: #1967D2;\n",
              "      height: 32px;\n",
              "      padding: 0 0 0 0;\n",
              "      width: 32px;\n",
              "    }\n",
              "\n",
              "    .colab-df-convert:hover {\n",
              "      background-color: #E2EBFA;\n",
              "      box-shadow: 0px 1px 2px rgba(60, 64, 67, 0.3), 0px 1px 3px 1px rgba(60, 64, 67, 0.15);\n",
              "      fill: #174EA6;\n",
              "    }\n",
              "\n",
              "    .colab-df-buttons div {\n",
              "      margin-bottom: 4px;\n",
              "    }\n",
              "\n",
              "    [theme=dark] .colab-df-convert {\n",
              "      background-color: #3B4455;\n",
              "      fill: #D2E3FC;\n",
              "    }\n",
              "\n",
              "    [theme=dark] .colab-df-convert:hover {\n",
              "      background-color: #434B5C;\n",
              "      box-shadow: 0px 1px 3px 1px rgba(0, 0, 0, 0.15);\n",
              "      filter: drop-shadow(0px 1px 2px rgba(0, 0, 0, 0.3));\n",
              "      fill: #FFFFFF;\n",
              "    }\n",
              "  </style>\n",
              "\n",
              "    <script>\n",
              "      const buttonEl =\n",
              "        document.querySelector('#df-8e148180-4379-49b8-9bd5-1036806f3430 button.colab-df-convert');\n",
              "      buttonEl.style.display =\n",
              "        google.colab.kernel.accessAllowed ? 'block' : 'none';\n",
              "\n",
              "      async function convertToInteractive(key) {\n",
              "        const element = document.querySelector('#df-8e148180-4379-49b8-9bd5-1036806f3430');\n",
              "        const dataTable =\n",
              "          await google.colab.kernel.invokeFunction('convertToInteractive',\n",
              "                                                    [key], {});\n",
              "        if (!dataTable) return;\n",
              "\n",
              "        const docLinkHtml = 'Like what you see? Visit the ' +\n",
              "          '<a target=\"_blank\" href=https://colab.research.google.com/notebooks/data_table.ipynb>data table notebook</a>'\n",
              "          + ' to learn more about interactive tables.';\n",
              "        element.innerHTML = '';\n",
              "        dataTable['output_type'] = 'display_data';\n",
              "        await google.colab.output.renderOutput(dataTable, element);\n",
              "        const docLink = document.createElement('div');\n",
              "        docLink.innerHTML = docLinkHtml;\n",
              "        element.appendChild(docLink);\n",
              "      }\n",
              "    </script>\n",
              "  </div>\n",
              "\n",
              "\n",
              "<div id=\"df-2c24d66a-b5ff-45da-bbe5-04517e4fd748\">\n",
              "  <button class=\"colab-df-quickchart\" onclick=\"quickchart('df-2c24d66a-b5ff-45da-bbe5-04517e4fd748')\"\n",
              "            title=\"Suggest charts\"\n",
              "            style=\"display:none;\">\n",
              "\n",
              "<svg xmlns=\"http://www.w3.org/2000/svg\" height=\"24px\"viewBox=\"0 0 24 24\"\n",
              "     width=\"24px\">\n",
              "    <g>\n",
              "        <path d=\"M19 3H5c-1.1 0-2 .9-2 2v14c0 1.1.9 2 2 2h14c1.1 0 2-.9 2-2V5c0-1.1-.9-2-2-2zM9 17H7v-7h2v7zm4 0h-2V7h2v10zm4 0h-2v-4h2v4z\"/>\n",
              "    </g>\n",
              "</svg>\n",
              "  </button>\n",
              "\n",
              "<style>\n",
              "  .colab-df-quickchart {\n",
              "      --bg-color: #E8F0FE;\n",
              "      --fill-color: #1967D2;\n",
              "      --hover-bg-color: #E2EBFA;\n",
              "      --hover-fill-color: #174EA6;\n",
              "      --disabled-fill-color: #AAA;\n",
              "      --disabled-bg-color: #DDD;\n",
              "  }\n",
              "\n",
              "  [theme=dark] .colab-df-quickchart {\n",
              "      --bg-color: #3B4455;\n",
              "      --fill-color: #D2E3FC;\n",
              "      --hover-bg-color: #434B5C;\n",
              "      --hover-fill-color: #FFFFFF;\n",
              "      --disabled-bg-color: #3B4455;\n",
              "      --disabled-fill-color: #666;\n",
              "  }\n",
              "\n",
              "  .colab-df-quickchart {\n",
              "    background-color: var(--bg-color);\n",
              "    border: none;\n",
              "    border-radius: 50%;\n",
              "    cursor: pointer;\n",
              "    display: none;\n",
              "    fill: var(--fill-color);\n",
              "    height: 32px;\n",
              "    padding: 0;\n",
              "    width: 32px;\n",
              "  }\n",
              "\n",
              "  .colab-df-quickchart:hover {\n",
              "    background-color: var(--hover-bg-color);\n",
              "    box-shadow: 0 1px 2px rgba(60, 64, 67, 0.3), 0 1px 3px 1px rgba(60, 64, 67, 0.15);\n",
              "    fill: var(--button-hover-fill-color);\n",
              "  }\n",
              "\n",
              "  .colab-df-quickchart-complete:disabled,\n",
              "  .colab-df-quickchart-complete:disabled:hover {\n",
              "    background-color: var(--disabled-bg-color);\n",
              "    fill: var(--disabled-fill-color);\n",
              "    box-shadow: none;\n",
              "  }\n",
              "\n",
              "  .colab-df-spinner {\n",
              "    border: 2px solid var(--fill-color);\n",
              "    border-color: transparent;\n",
              "    border-bottom-color: var(--fill-color);\n",
              "    animation:\n",
              "      spin 1s steps(1) infinite;\n",
              "  }\n",
              "\n",
              "  @keyframes spin {\n",
              "    0% {\n",
              "      border-color: transparent;\n",
              "      border-bottom-color: var(--fill-color);\n",
              "      border-left-color: var(--fill-color);\n",
              "    }\n",
              "    20% {\n",
              "      border-color: transparent;\n",
              "      border-left-color: var(--fill-color);\n",
              "      border-top-color: var(--fill-color);\n",
              "    }\n",
              "    30% {\n",
              "      border-color: transparent;\n",
              "      border-left-color: var(--fill-color);\n",
              "      border-top-color: var(--fill-color);\n",
              "      border-right-color: var(--fill-color);\n",
              "    }\n",
              "    40% {\n",
              "      border-color: transparent;\n",
              "      border-right-color: var(--fill-color);\n",
              "      border-top-color: var(--fill-color);\n",
              "    }\n",
              "    60% {\n",
              "      border-color: transparent;\n",
              "      border-right-color: var(--fill-color);\n",
              "    }\n",
              "    80% {\n",
              "      border-color: transparent;\n",
              "      border-right-color: var(--fill-color);\n",
              "      border-bottom-color: var(--fill-color);\n",
              "    }\n",
              "    90% {\n",
              "      border-color: transparent;\n",
              "      border-bottom-color: var(--fill-color);\n",
              "    }\n",
              "  }\n",
              "</style>\n",
              "\n",
              "  <script>\n",
              "    async function quickchart(key) {\n",
              "      const quickchartButtonEl =\n",
              "        document.querySelector('#' + key + ' button');\n",
              "      quickchartButtonEl.disabled = true;  // To prevent multiple clicks.\n",
              "      quickchartButtonEl.classList.add('colab-df-spinner');\n",
              "      try {\n",
              "        const charts = await google.colab.kernel.invokeFunction(\n",
              "            'suggestCharts', [key], {});\n",
              "      } catch (error) {\n",
              "        console.error('Error during call to suggestCharts:', error);\n",
              "      }\n",
              "      quickchartButtonEl.classList.remove('colab-df-spinner');\n",
              "      quickchartButtonEl.classList.add('colab-df-quickchart-complete');\n",
              "    }\n",
              "    (() => {\n",
              "      let quickchartButtonEl =\n",
              "        document.querySelector('#df-2c24d66a-b5ff-45da-bbe5-04517e4fd748 button');\n",
              "      quickchartButtonEl.style.display =\n",
              "        google.colab.kernel.accessAllowed ? 'block' : 'none';\n",
              "    })();\n",
              "  </script>\n",
              "</div>\n",
              "\n",
              "  <div id=\"id_f92c86dc-885b-4e7c-927e-a64cb70b10d5\">\n",
              "    <style>\n",
              "      .colab-df-generate {\n",
              "        background-color: #E8F0FE;\n",
              "        border: none;\n",
              "        border-radius: 50%;\n",
              "        cursor: pointer;\n",
              "        display: none;\n",
              "        fill: #1967D2;\n",
              "        height: 32px;\n",
              "        padding: 0 0 0 0;\n",
              "        width: 32px;\n",
              "      }\n",
              "\n",
              "      .colab-df-generate:hover {\n",
              "        background-color: #E2EBFA;\n",
              "        box-shadow: 0px 1px 2px rgba(60, 64, 67, 0.3), 0px 1px 3px 1px rgba(60, 64, 67, 0.15);\n",
              "        fill: #174EA6;\n",
              "      }\n",
              "\n",
              "      [theme=dark] .colab-df-generate {\n",
              "        background-color: #3B4455;\n",
              "        fill: #D2E3FC;\n",
              "      }\n",
              "\n",
              "      [theme=dark] .colab-df-generate:hover {\n",
              "        background-color: #434B5C;\n",
              "        box-shadow: 0px 1px 3px 1px rgba(0, 0, 0, 0.15);\n",
              "        filter: drop-shadow(0px 1px 2px rgba(0, 0, 0, 0.3));\n",
              "        fill: #FFFFFF;\n",
              "      }\n",
              "    </style>\n",
              "    <button class=\"colab-df-generate\" onclick=\"generateWithVariable('compare_df')\"\n",
              "            title=\"Generate code using this dataframe.\"\n",
              "            style=\"display:none;\">\n",
              "\n",
              "  <svg xmlns=\"http://www.w3.org/2000/svg\" height=\"24px\"viewBox=\"0 0 24 24\"\n",
              "       width=\"24px\">\n",
              "    <path d=\"M7,19H8.4L18.45,9,17,7.55,7,17.6ZM5,21V16.75L18.45,3.32a2,2,0,0,1,2.83,0l1.4,1.43a1.91,1.91,0,0,1,.58,1.4,1.91,1.91,0,0,1-.58,1.4L9.25,21ZM18.45,9,17,7.55Zm-12,3A5.31,5.31,0,0,0,4.9,8.1,5.31,5.31,0,0,0,1,6.5,5.31,5.31,0,0,0,4.9,4.9,5.31,5.31,0,0,0,6.5,1,5.31,5.31,0,0,0,8.1,4.9,5.31,5.31,0,0,0,12,6.5,5.46,5.46,0,0,0,6.5,12Z\"/>\n",
              "  </svg>\n",
              "    </button>\n",
              "    <script>\n",
              "      (() => {\n",
              "      const buttonEl =\n",
              "        document.querySelector('#id_f92c86dc-885b-4e7c-927e-a64cb70b10d5 button.colab-df-generate');\n",
              "      buttonEl.style.display =\n",
              "        google.colab.kernel.accessAllowed ? 'block' : 'none';\n",
              "\n",
              "      buttonEl.onclick = () => {\n",
              "        google.colab.notebook.generateWithVariable('compare_df');\n",
              "      }\n",
              "      })();\n",
              "    </script>\n",
              "  </div>\n",
              "\n",
              "    </div>\n",
              "  </div>\n"
            ],
            "application/vnd.google.colaboratory.intrinsic+json": {
              "type": "dataframe",
              "variable_name": "compare_df",
              "summary": "{\n  \"name\": \"compare_df\",\n  \"rows\": 12,\n  \"fields\": [\n    {\n      \"column\": \"Month\",\n      \"properties\": {\n        \"dtype\": \"int32\",\n        \"num_unique_values\": 12,\n        \"samples\": [\n          11,\n          10,\n          1\n        ],\n        \"semantic_type\": \"\",\n        \"description\": \"\"\n      }\n    },\n    {\n      \"column\": \"Avg_Pandas\",\n      \"properties\": {\n        \"dtype\": \"number\",\n        \"std\": 34.24598498917483,\n        \"min\": 58.33,\n        \"max\": 167.5,\n        \"num_unique_values\": 10,\n        \"samples\": [\n          62.5,\n          150.0,\n          106.25\n        ],\n        \"semantic_type\": \"\",\n        \"description\": \"\"\n      }\n    },\n    {\n      \"column\": \"Avg_Numpy\",\n      \"properties\": {\n        \"dtype\": \"number\",\n        \"std\": 34.24598498917483,\n        \"min\": 58.33,\n        \"max\": 167.5,\n        \"num_unique_values\": 10,\n        \"samples\": [\n          62.5,\n          150.0,\n          106.25\n        ],\n        \"semantic_type\": \"\",\n        \"description\": \"\"\n      }\n    },\n    {\n      \"column\": \"Max_Pandas\",\n      \"properties\": {\n        \"dtype\": \"number\",\n        \"std\": 107,\n        \"min\": 75,\n        \"max\": 450,\n        \"num_unique_values\": 6,\n        \"samples\": [\n          450,\n          250,\n          200\n        ],\n        \"semantic_type\": \"\",\n        \"description\": \"\"\n      }\n    },\n    {\n      \"column\": \"Max_Numpy\",\n      \"properties\": {\n        \"dtype\": \"number\",\n        \"std\": 107,\n        \"min\": 75,\n        \"max\": 450,\n        \"num_unique_values\": 6,\n        \"samples\": [\n          450,\n          250,\n          200\n        ],\n        \"semantic_type\": \"\",\n        \"description\": \"\"\n      }\n    },\n    {\n      \"column\": \"Record_Count_Pandas\",\n      \"properties\": {\n        \"dtype\": \"number\",\n        \"std\": 4,\n        \"min\": 2,\n        \"max\": 17,\n        \"num_unique_values\": 7,\n        \"samples\": [\n          10,\n          3,\n          8\n        ],\n        \"semantic_type\": \"\",\n        \"description\": \"\"\n      }\n    },\n    {\n      \"column\": \"Record_Count_Numpy\",\n      \"properties\": {\n        \"dtype\": \"number\",\n        \"std\": 4,\n        \"min\": 2,\n        \"max\": 17,\n        \"num_unique_values\": 7,\n        \"samples\": [\n          10,\n          3,\n          8\n        ],\n        \"semantic_type\": \"\",\n        \"description\": \"\"\n      }\n    }\n  ]\n}"
            }
          },
          "metadata": {},
          "execution_count": 60
        }
      ]
    },
    {
      "cell_type": "markdown",
      "source": [
        "### Plotting to Verify Manual Calculation"
      ],
      "metadata": {
        "id": "KTpgKBcaktSe"
      }
    },
    {
      "cell_type": "code",
      "source": [
        "#create variable for months to use in plot for x axis\n",
        "pandas_months=avg_controversypd.index\n",
        "\n",
        "#plotting manual averages by scatter and pd averages by line plot\n",
        "#dots should align with line graph\n",
        "plt.scatter(months,avg_values)\n",
        "plt.plot(pandas_months,avg_controversypd,c=\"red\")\n",
        "plt.title(\"Comparing Manual Average against Pandas Average\")\n",
        "plt.xlabel(\"Month\")\n",
        "plt.ylabel(\"Average\")\n",
        "plt.legend([\"Manual calculation\", \"Pandas\"])"
      ],
      "metadata": {
        "colab": {
          "base_uri": "https://localhost:8080/",
          "height": 510
        },
        "id": "McQGU_oz3WtJ",
        "outputId": "dd84d480-8307-423c-ec7e-31089777b7f0"
      },
      "execution_count": 61,
      "outputs": [
        {
          "output_type": "execute_result",
          "data": {
            "text/plain": [
              "<matplotlib.legend.Legend at 0x7973d66fb730>"
            ]
          },
          "metadata": {},
          "execution_count": 61
        },
        {
          "output_type": "display_data",
          "data": {
            "text/plain": [
              "<Figure size 640x480 with 1 Axes>"
            ],
            "image/png": "[encoded data removed]"
          },
          "metadata": {}
        }
      ]
    },
    {
      "cell_type": "code",
      "source": [
        "#create variable to hold max months index and use for x axis\n",
        "np_monthsmax=max_controversynp.index\n",
        "\n",
        "#we are plotting manual scatter on numpy bar chart\n",
        "#we see that max values of each month match for both methods\n",
        "plt.bar(np_monthsmax,max_controversynp)\n",
        "plt.scatter(months,max_values)\n",
        "plt.title(\"Comparing Manual Max against Numpy Max\")\n",
        "plt.xlabel(\"Month\")\n",
        "plt.ylabel(\"Maximum\")\n",
        "plt.legend([\"Manual calculation\", \"Numpy\"])"
      ],
      "metadata": {
        "colab": {
          "base_uri": "https://localhost:8080/",
          "height": 510
        },
        "id": "b0574ByuX8Us",
        "outputId": "f9db3748-1e00-43c1-bb0d-65d09a0cc20b"
      },
      "execution_count": 62,
      "outputs": [
        {
          "output_type": "execute_result",
          "data": {
            "text/plain": [
              "<matplotlib.legend.Legend at 0x7973d621d810>"
            ]
          },
          "metadata": {},
          "execution_count": 62
        },
        {
          "output_type": "display_data",
          "data": {
            "text/plain": [
              "<Figure size 640x480 with 1 Axes>"
            ],
            "image/png": "[encoded data removed]"
          },
          "metadata": {}
        }
      ]
    },
    {
      "cell_type": "code",
      "source": [
        "#create variable to hold record months index and use for x axis\n",
        "pd_monthsrecord=record_countpd.index\n",
        "\n",
        "#we are plotting manual scatter on pandas bar chart\n",
        "#we see that record counts of each month match for both methods\n",
        "plt.bar(pd_monthsrecord,record_countpd)\n",
        "plt.scatter(months,records)\n",
        "plt.title(\"Comparing Record Count against Pandas Record Count\")\n",
        "plt.xlabel(\"Month\")\n",
        "plt.ylabel(\"Record Count\")\n",
        "plt.legend([\"Manual calculation\", \"Pandas\"])"
      ],
      "metadata": {
        "colab": {
          "base_uri": "https://localhost:8080/",
          "height": 510
        },
        "id": "XL8FIuJOueXI",
        "outputId": "e9b15113-15b8-4a4b-afd4-2d62266a7925"
      },
      "execution_count": 63,
      "outputs": [
        {
          "output_type": "execute_result",
          "data": {
            "text/plain": [
              "<matplotlib.legend.Legend at 0x7973d65ade70>"
            ]
          },
          "metadata": {},
          "execution_count": 63
        },
        {
          "output_type": "display_data",
          "data": {
            "text/plain": [
              "<Figure size 640x480 with 1 Axes>"
            ],
            "image/png": "[encoded data removed]"
          },
          "metadata": {}
        }
      ]
    },
    {
      "cell_type": "code",
      "source": [],
      "metadata": {
        "id": "dgQTRiZpvIz8"
      },
      "execution_count": null,
      "outputs": []
    }
  ],
  "metadata": {
    "colab": {
      "provenance": [],
      "toc_visible": true
    },
    "kernelspec": {
      "display_name": "Python 3",
      "name": "python3"
    }
  },
  "nbformat": 4,
  "nbformat_minor": 0
}